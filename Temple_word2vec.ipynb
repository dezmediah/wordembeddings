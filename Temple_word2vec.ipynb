{
 "cells": [
  {
   "cell_type": "code",
   "execution_count": 1,
   "id": "25df19e1",
   "metadata": {},
   "outputs": [],
   "source": [
    "#import libraries\n",
    "\n",
    "from nltk.tokenize import sent_tokenize\n",
    "from nltk.tokenize.treebank import TreebankWordTokenizer\n",
    "import nltk\n",
    "import glob\n",
    "from pathlib import Path\n",
    "import os\n",
    "import gensim\n",
    "import pandas as pd\n",
    "from gensim.models import Word2Vec\n",
    "from tqdm import tqdm\n",
    "import multiprocessing"
   ]
  },
  {
   "cell_type": "code",
   "execution_count": 2,
   "id": "14d9e8ec",
   "metadata": {},
   "outputs": [],
   "source": [
    "import os\n",
    "base_dir_T = \"/media/secure_volume/Temple/\"\n",
    "all_docs_T = []\n",
    "docs_T = os.listdir(base_dir_T)"
   ]
  },
  {
   "cell_type": "code",
   "execution_count": 3,
   "id": "4a43d912",
   "metadata": {},
   "outputs": [
    {
     "name": "stdout",
     "output_type": "stream",
     "text": [
      "/media/secure_volume/Temple/ppt.ssfcbz201710000333.txt\n",
      "/media/secure_volume/Temple/ppt.ssfcbz201808000173.txt\n",
      "/media/secure_volume/Temple/ppt.ssfcbz201808000121.txt\n",
      "/media/secure_volume/Temple/ppt.ssfcbz201808000172.txt\n",
      "/media/secure_volume/Temple/ppt.ssfcbz201808000124.txt\n",
      "/media/secure_volume/Temple/ppt.ssfcbz201808000185.txt\n",
      "/media/secure_volume/Temple/ppt.ssfcbz201710000393.txt\n",
      "/media/secure_volume/Temple/ppt.ssfcbz201710000415.txt\n",
      "/media/secure_volume/Temple/ppt.ssfcbz201710000401.txt\n",
      "/media/secure_volume/Temple/ppt.ssfcbz201808000129.txt\n",
      "/media/secure_volume/Temple/ppt.ssfcbz201808000200.txt\n",
      "/media/secure_volume/Temple/ppt.ssfcbz201710000330.txt\n",
      "/media/secure_volume/Temple/ppt.ssfcbz202002001078.txt\n",
      "/media/secure_volume/Temple/ppt.ssfcbz201808000184.txt\n",
      "/media/secure_volume/Temple/ppt.ssfcbz202002001124.txt\n",
      "/media/secure_volume/Temple/ppt.ssfcbz201710000336.txt\n",
      "/media/secure_volume/Temple/ppt.ssfcbz201710000441.txt\n",
      "/media/secure_volume/Temple/ppt.ssfcbz202002001129.txt\n",
      "/media/secure_volume/Temple/ppt.ssfcbz201808000132.txt\n",
      "/media/secure_volume/Temple/ppt.ssfcbz201710000339.txt\n",
      "/media/secure_volume/Temple/ppt.ssfcbz201808000181.txt\n",
      "/media/secure_volume/Temple/ppt.ssfcbz202002001081.txt\n",
      "/media/secure_volume/Temple/ppt.ssfcbz201808000136.txt\n",
      "/media/secure_volume/Temple/ppt.ssfcbz202002001052.txt\n",
      "/media/secure_volume/Temple/ppt.ssfcbz202002001071.txt\n",
      "/media/secure_volume/Temple/ppt.ssfcbz202002001062.txt\n",
      "/media/secure_volume/Temple/ppt.ssfcbz201710000440.txt\n",
      "/media/secure_volume/Temple/ppt.ssfcbz202002001132.txt\n",
      "/media/secure_volume/Temple/ppt.ssfcbz201808000125.txt\n",
      "/media/secure_volume/Temple/ppt.ssfcbz201710000412.txt\n",
      "/media/secure_volume/Temple/ppt.ssfcbz201710000383.txt\n",
      "/media/secure_volume/Temple/ppt.ssfcbz202002001079.txt\n",
      "/media/secure_volume/Temple/ppt.ssfcbz202002001091.txt\n",
      "/media/secure_volume/Temple/ppt.ssfcbz202002001108.txt\n",
      "/media/secure_volume/Temple/ppt.ssfcbz202002001039.txt\n",
      "/media/secure_volume/Temple/ppt.ssfcbz202002001116.txt\n",
      "/media/secure_volume/Temple/ppt.ssfcbz201808000147.txt\n",
      "/media/secure_volume/Temple/ppt.ssfcbz201710000436.txt\n",
      "/media/secure_volume/Temple/ppt.ssfcbz201808000168.txt\n",
      "/media/secure_volume/Temple/ppt.ssfcbz202002001029.txt\n",
      "/media/secure_volume/Temple/ppt.ssfcbz201710000378.txt\n",
      "/media/secure_volume/Temple/ppt.ssfcbz202002001112.txt\n",
      "/media/secure_volume/Temple/ppt.ssfcbz201808000104.txt\n",
      "/media/secure_volume/Temple/ppt.ssfcbz202002001006.txt\n",
      "/media/secure_volume/Temple/ppt.ssfcbz201808000108.txt\n",
      "/media/secure_volume/Temple/ppt.ssfcbz202002001053.txt\n",
      "/media/secure_volume/Temple/ppt.ssfcbz202002001059.txt\n",
      "/media/secure_volume/Temple/ppt.ssfcbz201808000134.txt\n",
      "/media/secure_volume/Temple/ppt.ssfcbz201808000169.txt\n",
      "/media/secure_volume/Temple/ppt.ssfcbz202002001042.txt\n",
      "/media/secure_volume/Temple/ppt.ssfcbz202002001105.txt\n",
      "/media/secure_volume/Temple/ppt.ssfcbz201808000195.txt\n",
      "/media/secure_volume/Temple/ppt.ssfcbz201808000114.txt\n",
      "/media/secure_volume/Temple/ppt.ssfcbz201710000368.txt\n",
      "/media/secure_volume/Temple/ppt.ssfcbz201710000430.txt\n",
      "/media/secure_volume/Temple/ppt.ssfcbz201808000131.txt\n",
      "/media/secure_volume/Temple/ppt.ssfcbz201808000197.txt\n",
      "/media/secure_volume/Temple/ppt.ssfcbz201808000127.txt\n",
      "/media/secure_volume/Temple/ppt.ssfcbz202002001007.txt\n",
      "/media/secure_volume/Temple/ppt.ssfcbz201808000109.txt\n",
      "/media/secure_volume/Temple/ppt.ssfcbz202002001120.txt\n",
      "/media/secure_volume/Temple/ppt.ssfcbz201710000350.txt\n",
      "/media/secure_volume/Temple/ppt.ssfcbz201808000188.txt\n",
      "/media/secure_volume/Temple/ppt.ssfcbz201710000397.txt\n",
      "/media/secure_volume/Temple/ppt.ssfcbz201710000439.txt\n",
      "/media/secure_volume/Temple/ppt.ssfcbz201710000366.txt\n",
      "/media/secure_volume/Temple/ppt.ssfcbz201808000118.txt\n",
      "/media/secure_volume/Temple/ppt.ssfcbz201808000159.txt\n",
      "/media/secure_volume/Temple/ppt.ssfcbz201710000353.txt\n",
      "/media/secure_volume/Temple/ppt.ssfcbz202002001115.txt\n",
      "/media/secure_volume/Temple/ppt.ssfcbz201808000130.txt\n",
      "/media/secure_volume/Temple/ppt.ssfcbz201710000396.txt\n",
      "/media/secure_volume/Temple/ppt.ssfcbz201710000451.txt\n",
      "/media/secure_volume/Temple/ppt.ssfcbz202002001084.txt\n",
      "/media/secure_volume/Temple/ppt.ssfcbz201808000157.txt\n",
      "/media/secure_volume/Temple/ppt.ssfcbz202002001036.txt\n",
      "/media/secure_volume/Temple/ppt.ssfcbz201808000115.txt\n",
      "/media/secure_volume/Temple/ppt.ssfcbz201710000342.txt\n",
      "/media/secure_volume/Temple/ppt.ssfcbz202002001004.txt\n",
      "/media/secure_volume/Temple/ppt.ssfcbz202002001069.txt\n",
      "/media/secure_volume/Temple/ppt.ssfcbz201710000418.txt\n",
      "/media/secure_volume/Temple/ppt.ssfcbz201710000356.txt\n",
      "/media/secure_volume/Temple/ppt.ssfcbz201808000137.txt\n",
      "/media/secure_volume/Temple/ppt.ssfcbz201710000370.txt\n",
      "/media/secure_volume/Temple/ppt.ssfcbz201710000341.txt\n",
      "/media/secure_volume/Temple/ppt.ssfcbz202002001095.txt\n",
      "/media/secure_volume/Temple/ppt.ssfcbz202002001127.txt\n",
      "/media/secure_volume/Temple/ppt.ssfcbz202002001130.txt\n",
      "/media/secure_volume/Temple/ppt.ssfcbz201710000384.txt\n",
      "/media/secure_volume/Temple/ppt.ssfcbz202002001077.txt\n",
      "/media/secure_volume/Temple/ppt.ssfcbz201710000400.txt\n",
      "/media/secure_volume/Temple/ppt.ssfcbz202002001107.txt\n",
      "/media/secure_volume/Temple/ppt.ssfcbz202002001019.txt\n",
      "/media/secure_volume/Temple/ppt.ssfcbz202002001037.txt\n",
      "/media/secure_volume/Temple/ppt.ssfcbz201710000402.txt\n",
      "/media/secure_volume/Temple/ppt.ssfcbz201808000123.txt\n",
      "/media/secure_volume/Temple/ppt.ssfcbz202002001016.txt\n",
      "/media/secure_volume/Temple/ppt.ssfcbz201710000361.txt\n",
      "/media/secure_volume/Temple/ppt.ssfcbz202002001118.txt\n",
      "/media/secure_volume/Temple/ppt.ssfcbz202002001020.txt\n",
      "/media/secure_volume/Temple/ppt.ssfcbz202002001072.txt\n",
      "/media/secure_volume/Temple/ppt.ssfcbz202002001110.txt\n",
      "/media/secure_volume/Temple/ppt.ssfcbz201710000408.txt\n",
      "/media/secure_volume/Temple/ppt.ssfcbz202002001070.txt\n",
      "/media/secure_volume/Temple/ppt.ssfcbz202002001054.txt\n",
      "/media/secure_volume/Temple/ppt.ssfcbz201710000398.txt\n",
      "/media/secure_volume/Temple/ppt.ssfcbz201710000373.txt\n",
      "/media/secure_volume/Temple/ppt.ssfcbz202002001045.txt\n",
      "/media/secure_volume/Temple/ppt.ssfcbz202002001068.txt\n",
      "/media/secure_volume/Temple/ppt.ssfcbz201710000374.txt\n",
      "/media/secure_volume/Temple/ppt.ssfcbz201710000360.txt\n",
      "/media/secure_volume/Temple/ppt.ssfcbz202002001135.txt\n",
      "/media/secure_volume/Temple/ppt.ssfcbz201710000340.txt\n",
      "/media/secure_volume/Temple/ppt.ssfcbz201710000329.txt\n",
      "/media/secure_volume/Temple/ppt.ssfcbz201808000107.txt\n",
      "/media/secure_volume/Temple/ppt.ssfcbz201808000170.txt\n",
      "/media/secure_volume/Temple/ppt.ssfcbz202002001035.txt\n",
      "/media/secure_volume/Temple/ppt.ssfcbz202002001041.txt\n",
      "/media/secure_volume/Temple/ppt.ssfcbz201808000058.txt\n",
      "/media/secure_volume/Temple/ppt.ssfcbz202002001086.txt\n",
      "/media/secure_volume/Temple/ppt.ssfcbz201710000417.txt\n",
      "/media/secure_volume/Temple/ppt.ssfcbz202002001119.txt\n",
      "/media/secure_volume/Temple/ppt.ssfcbz201808000161.txt\n",
      "/media/secure_volume/Temple/ppt.ssfcbz201710000443.txt\n",
      "/media/secure_volume/Temple/ppt.ssfcbz201808000140.txt\n",
      "/media/secure_volume/Temple/ppt.ssfcbz201808000182.txt\n",
      "/media/secure_volume/Temple/ppt.ssfcbz202002001048.txt\n",
      "/media/secure_volume/Temple/ppt.ssfcbz202002001065.txt\n",
      "/media/secure_volume/Temple/ppt.ssfcbz201710000391.txt\n",
      "/media/secure_volume/Temple/ppt.ssfcbz202002001094.txt\n",
      "/media/secure_volume/Temple/ppt.ssfcbz201710000413.txt\n",
      "/media/secure_volume/Temple/ppt.ssfcbz202002001018.txt\n",
      "/media/secure_volume/Temple/ppt.ssfcbz202002001010.txt\n",
      "/media/secure_volume/Temple/ppt.ssfcbz201710000449.txt\n",
      "/media/secure_volume/Temple/ppt.ssfcbz201710000325.txt\n",
      "/media/secure_volume/Temple/ppt.ssfcbz202002001013.txt\n",
      "/media/secure_volume/Temple/ppt.ssfcbz201710000411.txt\n",
      "/media/secure_volume/Temple/ppt.ssfcbz202002001000.txt\n",
      "/media/secure_volume/Temple/ppt.ssfcbz201710000405.txt\n",
      "/media/secure_volume/Temple/ppt.ssfcbz202002001027.txt\n",
      "/media/secure_volume/Temple/ppt.ssfcbz201710000434.txt\n",
      "/media/secure_volume/Temple/ppt.ssfcbz201710000388.txt\n",
      "/media/secure_volume/Temple/ppt.ssfcbz201808000113.txt\n",
      "/media/secure_volume/Temple/ppt.ssfcbz201710000435.txt\n",
      "/media/secure_volume/Temple/ppt.ssfcbz201808000110.txt\n",
      "/media/secure_volume/Temple/ppt.ssfcbz202002001082.txt\n",
      "/media/secure_volume/Temple/ppt.ssfcbz201710000349.txt\n",
      "/media/secure_volume/Temple/ppt.ssfcbz201710000335.txt\n",
      "/media/secure_volume/Temple/ppt.ssfcbz201710000385.txt\n",
      "/media/secure_volume/Temple/ppt.ssfcbz201710000346.txt\n",
      "/media/secure_volume/Temple/ppt.ssfcbz201710000326.txt\n",
      "/media/secure_volume/Temple/ppt.ssfcbz201808000189.txt\n",
      "/media/secure_volume/Temple/ppt.ssfcbz202002001050.txt\n",
      "/media/secure_volume/Temple/ppt.ssfcbz201808000180.txt\n",
      "/media/secure_volume/Temple/ppt.ssfcbz201808000111.txt\n",
      "/media/secure_volume/Temple/ppt.ssfcbz201808000152.txt\n",
      "/media/secure_volume/Temple/ppt.ssfcbz201710000422.txt\n",
      "/media/secure_volume/Temple/ppt.ssfcbz202002001021.txt\n",
      "/media/secure_volume/Temple/ppt.ssfcbz201808000141.txt\n",
      "/media/secure_volume/Temple/ppt.ssfcbz201710000352.txt\n",
      "/media/secure_volume/Temple/ppt.ssfcbz201710000389.txt\n",
      "/media/secure_volume/Temple/ppt.ssfcbz202002001136.txt\n",
      "/media/secure_volume/Temple/ppt.ssfcbz201710000406.txt\n",
      "/media/secure_volume/Temple/ppt.ssfcbz202002001131.txt\n",
      "/media/secure_volume/Temple/ppt.ssfcbz202002001002.txt\n",
      "/media/secure_volume/Temple/ppt.ssfcbz201808000175.txt\n",
      "/media/secure_volume/Temple/ppt.ssfcbz201808000178.txt\n",
      "/media/secure_volume/Temple/ppt.ssfcbz201808000177.txt\n",
      "/media/secure_volume/Temple/ppt.ssfcbz201710000404.txt\n",
      "/media/secure_volume/Temple/ppt.ssfcbz202002001005.txt\n",
      "/media/secure_volume/Temple/ppt.ssfcbz201710000327.txt\n",
      "/media/secure_volume/Temple/ppt.ssfcbz202002001126.txt\n",
      "/media/secure_volume/Temple/ppt.ssfcbz202002001008.txt\n",
      "/media/secure_volume/Temple/ppt.ssfcbz201808000057.txt\n",
      "/media/secure_volume/Temple/ppt.ssfcbz202002001103.txt\n",
      "/media/secure_volume/Temple/ppt.ssfcbz202002001087.txt\n",
      "/media/secure_volume/Temple/ppt.ssfcbz201710000421.txt\n",
      "/media/secure_volume/Temple/ppt.ssfcbz201808000194.txt\n",
      "/media/secure_volume/Temple/ppt.ssfcbz201710000410.txt\n",
      "/media/secure_volume/Temple/ppt.ssfcbz201710000414.txt\n",
      "/media/secure_volume/Temple/ppt.ssfcbz201710000355.txt\n",
      "/media/secure_volume/Temple/ppt.ssfcbz201710000362.txt\n",
      "/media/secure_volume/Temple/ppt.ssfcbz201710000427.txt\n",
      "/media/secure_volume/Temple/ppt.ssfcbz201710000386.txt\n",
      "/media/secure_volume/Temple/ppt.ssfcbz201710000354.txt\n",
      "/media/secure_volume/Temple/temple_scifi.html\n",
      "/media/secure_volume/Temple/ppt.ssfcbz201710000390.txt\n",
      "/media/secure_volume/Temple/ppt.ssfcbz202002001063.txt\n",
      "/media/secure_volume/Temple/ppt.ssfcbz201710000348.txt\n",
      "/media/secure_volume/Temple/ppt.ssfcbz201710000376.txt\n",
      "/media/secure_volume/Temple/ppt.ssfcbz202002001109.txt\n",
      "/media/secure_volume/Temple/ppt.ssfcbz201710000426.txt\n",
      "/media/secure_volume/Temple/ppt.ssfcbz202002001014.txt\n",
      "/media/secure_volume/Temple/ppt.ssfcbz202002001067.txt\n",
      "/media/secure_volume/Temple/ppt.ssfcbz201808000179.txt\n",
      "/media/secure_volume/Temple/ppt.ssfcbz202002001064.txt\n",
      "/media/secure_volume/Temple/ppt.ssfcbz201808000120.txt\n",
      "/media/secure_volume/Temple/ppt.ssfcbz201808000122.txt\n",
      "/media/secure_volume/Temple/ppt.ssfcbz201710000416.txt\n",
      "/media/secure_volume/Temple/ppt.ssfcbz201710000428.txt\n",
      "/media/secure_volume/Temple/ppt.ssfcbz201808000166.txt\n",
      "/media/secure_volume/Temple/ppt.ssfcbz201808000171.txt\n",
      "/media/secure_volume/Temple/ppt.ssfcbz201710000444.txt\n",
      "/media/secure_volume/Temple/ppt.ssfcbz201710000345.txt\n",
      "/media/secure_volume/Temple/ppt.ssfcbz201808000050.txt\n",
      "/media/secure_volume/Temple/ppt.ssfcbz201808000190.txt\n",
      "/media/secure_volume/Temple/volume-rights.txt\n",
      "/media/secure_volume/Temple/ppt.ssfcbz201808000165.txt\n",
      "/media/secure_volume/Temple/ppt.ssfcbz201710000351.txt\n",
      "/media/secure_volume/Temple/ppt.ssfcbz201808000156.txt\n",
      "/media/secure_volume/Temple/ppt.ssfcbz202002001093.txt\n",
      "/media/secure_volume/Temple/ppt.ssfcbz201710000324.txt\n",
      "/media/secure_volume/Temple/ppt.ssfcbz202002001104.txt\n",
      "/media/secure_volume/Temple/ppt.ssfcbz201808000126.txt\n",
      "/media/secure_volume/Temple/ppt.ssfcbz201808000119.txt\n",
      "/media/secure_volume/Temple/ppt.ssfcbz201710000381.txt\n",
      "/media/secure_volume/Temple/ppt.ssfcbz201808000187.txt\n",
      "/media/secure_volume/Temple/ppt.ssfcbz201808000061.txt\n",
      "/media/secure_volume/Temple/ppt.ssfcbz202002001121.txt\n",
      "/media/secure_volume/Temple/ppt.ssfcbz202002001056.txt\n",
      "/media/secure_volume/Temple/ppt.ssfcbz201710000432.txt\n",
      "/media/secure_volume/Temple/ppt.ssfcbz201710000423.txt\n",
      "/media/secure_volume/Temple/ppt.ssfcbz201710000359.txt\n",
      "/media/secure_volume/Temple/ppt.ssfcbz201808000112.txt\n",
      "/media/secure_volume/Temple/ppt.ssfcbz201710000424.txt\n",
      "/media/secure_volume/Temple/ppt.ssfcbz202002001047.txt\n",
      "/media/secure_volume/Temple/ppt.ssfcbz201710000395.txt\n",
      "/media/secure_volume/Temple/ppt.ssfcbz202002001011.txt\n",
      "/media/secure_volume/Temple/ppt.ssfcbz201710000450.txt\n",
      "/media/secure_volume/Temple/ppt.ssfcbz201808000163.txt\n",
      "/media/secure_volume/Temple/ppt.ssfcbz201710000344.txt\n",
      "/media/secure_volume/Temple/ppt.ssfcbz201808000160.txt\n",
      "/media/secure_volume/Temple/ppt.ssfcbz201710000375.txt\n",
      "/media/secure_volume/Temple/ppt.ssfcbz202002001032.txt\n",
      "/media/secure_volume/Temple/ppt.ssfcbz201808000176.txt\n",
      "/media/secure_volume/Temple/ppt.ssfcbz201710000445.txt\n",
      "/media/secure_volume/Temple/ppt.ssfcbz202002001122.txt\n",
      "/media/secure_volume/Temple/ppt.ssfcbz201808000167.txt\n",
      "/media/secure_volume/Temple/ppt.ssfcbz202002001073.txt\n",
      "/media/secure_volume/Temple/ppt.ssfcbz201808000138.txt\n",
      "/media/secure_volume/Temple/ppt.ssfcbz202002001049.txt\n",
      "/media/secure_volume/Temple/ppt.ssfcbz201710000367.txt\n",
      "/media/secure_volume/Temple/ppt.ssfcbz202002001083.txt\n",
      "/media/secure_volume/Temple/ppt.ssfcbz201710000420.txt\n",
      "/media/secure_volume/Temple/ppt.ssfcbz201710000365.txt\n",
      "/media/secure_volume/Temple/ppt.ssfcbz202002001044.txt\n",
      "/media/secure_volume/Temple/ppt.ssfcbz202002001075.txt\n",
      "/media/secure_volume/Temple/ppt.ssfcbz202002001096.txt\n",
      "/media/secure_volume/Temple/ppt.ssfcbz201808000252.txt\n",
      "/media/secure_volume/Temple/ppt.ssfcbz201808000199.txt\n",
      "/media/secure_volume/Temple/ppt.ssfcbz201710000431.txt\n",
      "/media/secure_volume/Temple/ppt.ssfcbz201710000447.txt\n",
      "/media/secure_volume/Temple/ppt.ssfcbz201710000328.txt\n",
      "/media/secure_volume/Temple/ppt.ssfcbz201808000158.txt\n",
      "/media/secure_volume/Temple/ppt.ssfcbz202002001125.txt\n",
      "/media/secure_volume/Temple/ppt.ssfcbz201808000148.txt\n",
      "/media/secure_volume/Temple/ppt.ssfcbz202002001097.txt\n",
      "/media/secure_volume/Temple/ppt.ssfcbz202002001024.txt\n",
      "/media/secure_volume/Temple/ppt.ssfcbz201808000164.txt\n",
      "/media/secure_volume/Temple/ppt.ssfcbz201808000064.txt\n",
      "/media/secure_volume/Temple/ppt.ssfcbz201710000446.txt\n",
      "/media/secure_volume/Temple/ppt.ssfcbz201710000357.txt\n",
      "/media/secure_volume/Temple/ppt.ssfcbz202002001001.txt\n",
      "/media/secure_volume/Temple/ppt.ssfcbz202002001114.txt\n",
      "/media/secure_volume/Temple/ppt.ssfcbz201808000154.txt\n",
      "/media/secure_volume/Temple/ppt.ssfcbz202002001113.txt\n",
      "/media/secure_volume/Temple/ppt.ssfcbz201808000198.txt\n",
      "/media/secure_volume/Temple/ppt.ssfcbz202002001092.txt\n",
      "/media/secure_volume/Temple/ppt.ssfcbz201808000191.txt\n",
      "/media/secure_volume/Temple/ppt.ssfcbz202002001046.txt\n",
      "/media/secure_volume/Temple/ppt.ssfcbz201808000128.txt\n",
      "/media/secure_volume/Temple/ppt.ssfcbz201710000372.txt\n",
      "/media/secure_volume/Temple/ppt.ssfcbz202002001090.txt\n",
      "/media/secure_volume/Temple/ppt.ssfcbz201808000135.txt\n",
      "/media/secure_volume/Temple/ppt.ssfcbz201808000105.txt\n",
      "/media/secure_volume/Temple/ppt.ssfcbz201710000337.txt\n",
      "/media/secure_volume/Temple/ppt.ssfcbz202002001057.txt\n",
      "/media/secure_volume/Temple/ppt.ssfcbz201808000143.txt\n",
      "/media/secure_volume/Temple/ppt.ssfcbz202002001030.txt\n",
      "/media/secure_volume/Temple/ppt.ssfcbz201808000041.txt\n",
      "/media/secure_volume/Temple/ppt.ssfcbz201710000419.txt\n",
      "/media/secure_volume/Temple/ppt.ssfcbz201808000186.txt\n",
      "/media/secure_volume/Temple/ppt.ssfcbz202002001101.txt\n",
      "/media/secure_volume/Temple/ppt.ssfcbz202002001098.txt\n",
      "/media/secure_volume/Temple/ppt.ssfcbz201710000409.txt\n",
      "/media/secure_volume/Temple/ppt.ssfcbz202002001133.txt\n",
      "/media/secure_volume/Temple/ppt.ssfcbz201710000442.txt\n",
      "/media/secure_volume/Temple/ppt.ssfcbz202002001051.txt\n",
      "/media/secure_volume/Temple/ppt.ssfcbz202002001012.txt\n",
      "/media/secure_volume/Temple/ppt.ssfcbz201710000363.txt\n",
      "/media/secure_volume/Temple/ppt.ssfcbz202002001088.txt\n",
      "/media/secure_volume/Temple/ppt.ssfcbz201710000437.txt\n",
      "/media/secure_volume/Temple/ppt.ssfcbz202002001076.txt\n",
      "/media/secure_volume/Temple/ppt.ssfcbz201710000407.txt\n",
      "/media/secure_volume/Temple/ppt.ssfcbz202002001099.txt\n",
      "/media/secure_volume/Temple/ppt.ssfcbz201808000117.txt\n",
      "/media/secure_volume/Temple/ppt.ssfcbz201710000371.txt\n",
      "/media/secure_volume/Temple/ppt.ssfcbz201710000358.txt\n",
      "/media/secure_volume/Temple/ppt.ssfcbz202002001117.txt\n",
      "/media/secure_volume/Temple/ppt.ssfcbz202002001038.txt\n",
      "/media/secure_volume/Temple/ppt.ssfcbz201808000247.txt\n",
      "/media/secure_volume/Temple/ppt.ssfcbz201710000338.txt\n",
      "/media/secure_volume/Temple/ppt.ssfcbz201808000116.txt\n",
      "/media/secure_volume/Temple/ppt.ssfcbz201710000323.txt\n",
      "/media/secure_volume/Temple/ppt.ssfcbz201808000139.txt\n",
      "/media/secure_volume/Temple/ppt.ssfcbz201808000149.txt\n",
      "/media/secure_volume/Temple/ppt.ssfcbz201710000332.txt\n",
      "/media/secure_volume/Temple/ppt.ssfcbz201808000142.txt\n",
      "/media/secure_volume/Temple/ppt.ssfcbz201710000448.txt\n",
      "/media/secure_volume/Temple/ppt.ssfcbz201808000032.txt\n",
      "/media/secure_volume/Temple/ppt.ssfcbz201808000153.txt\n",
      "/media/secure_volume/Temple/ppt.ssfcbz201808000133.txt\n",
      "/media/secure_volume/Temple/ppt.ssfcbz202002001055.txt\n",
      "/media/secure_volume/Temple/ppt.ssfcbz201808000144.txt\n",
      "/media/secure_volume/Temple/ppt.ssfcbz202002001111.txt\n",
      "/media/secure_volume/Temple/ppt.ssfcbz202002001026.txt\n",
      "/media/secure_volume/Temple/ppt.ssfcbz202002001015.txt\n",
      "/media/secure_volume/Temple/ppt.ssfcbz202002001066.txt\n",
      "/media/secure_volume/Temple/ppt.ssfcbz201710000331.txt\n",
      "/media/secure_volume/Temple/ppt.ssfcbz201710000347.txt\n",
      "/media/secure_volume/Temple/ppt.ssfcbz201808000162.txt\n",
      "/media/secure_volume/Temple/ppt.ssfcbz202002001031.txt\n"
     ]
    }
   ],
   "source": [
    "#checking i can read through\n",
    "for doc in docs_T:\n",
    "    filename_T = os.fsdecode(doc)\n",
    "    if not doc.startswith('.'):\n",
    "        print(os.path.join(base_dir_T, filename_T))"
   ]
  },
  {
   "cell_type": "code",
   "execution_count": 4,
   "id": "38b7d020",
   "metadata": {},
   "outputs": [
    {
     "data": {
      "text/plain": [
       "322"
      ]
     },
     "execution_count": 4,
     "metadata": {},
     "output_type": "execute_result"
    }
   ],
   "source": [
    "#checking number of files is correct\n",
    "for doc in docs_T:\n",
    "    if not doc.startswith('.'):\n",
    "        with open(base_dir_T + doc, \"r\", encoding=\"utf-8\") as file:\n",
    "            text_T = file.read()\n",
    "            all_docs_T.append(text_T)\n",
    "            \n",
    "\n",
    "len(all_docs_T)"
   ]
  },
  {
   "cell_type": "code",
   "execution_count": 8,
   "id": "fbb447ac",
   "metadata": {},
   "outputs": [],
   "source": [
    "#setting up tokenizer\n",
    "\n",
    "tokenizer = TreebankWordTokenizer()\n",
    "files_T = glob.glob(f\"{base_dir_T}/.txt\")\n",
    "titles_T = [Path(file).stem for file in files_T]"
   ]
  },
  {
   "cell_type": "code",
   "execution_count": 9,
   "id": "23b8c4b9",
   "metadata": {},
   "outputs": [],
   "source": [
    "#tokenizer function\n",
    "\n",
    "def make_sentences_T(list_text):\n",
    "    all_txt_T = []\n",
    "    counter = 0\n",
    "    for txt in tqdm(list_text, desc=\"Preprocessing\"):\n",
    "        lower_txt = txt.lower()\n",
    "        sentences_T = sent_tokenize(lower_txt)\n",
    "        sentences_T = [tokenizer.tokenize(sent) for sent in sentences_T]\n",
    "        all_txt_T += sentences_T\n",
    "        counter += 1\n",
    "    return all_txt_T"
   ]
  },
  {
   "cell_type": "code",
   "execution_count": 7,
   "id": "403ba9f6",
   "metadata": {},
   "outputs": [
    {
     "name": "stderr",
     "output_type": "stream",
     "text": [
      "Preprocessing: 100%|██████████████████████████| 322/322 [04:17<00:00,  1.25it/s]\n"
     ]
    }
   ],
   "source": [
    "#preprocessing\n",
    "sentences_T = make_sentences_T(all_docs_T)"
   ]
  },
  {
   "cell_type": "code",
   "execution_count": 10,
   "id": "026d1bdd",
   "metadata": {},
   "outputs": [
    {
     "data": {
      "text/plain": [
       "49"
      ]
     },
     "execution_count": 10,
     "metadata": {},
     "output_type": "execute_result"
    }
   ],
   "source": [
    "os.cpu_count()"
   ]
  },
  {
   "cell_type": "code",
   "execution_count": 11,
   "id": "f3822038",
   "metadata": {},
   "outputs": [],
   "source": [
    "Temple_model=gensim.models.Word2Vec(\n",
    "sentences_T,\n",
    "min_count=2,\n",
    "vector_size=300,\n",
    "workers=48)"
   ]
  },
  {
   "cell_type": "code",
   "execution_count": 12,
   "id": "661caea2",
   "metadata": {},
   "outputs": [],
   "source": [
    "Temple_model.save(\"Temple_model\")"
   ]
  },
  {
   "cell_type": "code",
   "execution_count": 5,
   "id": "51cb0b93",
   "metadata": {},
   "outputs": [],
   "source": [
    "#to reload model\n",
    "\n",
    "from gensim.models import Word2Vec\n",
    "Temple_model= Word2Vec.load(\"Temple_model\")"
   ]
  },
  {
   "cell_type": "code",
   "execution_count": 13,
   "id": "587b7582",
   "metadata": {},
   "outputs": [
    {
     "data": {
      "text/plain": [
       "[('lake', 0.8443195819854736),\n",
       " ('valley', 0.8115717768669128),\n",
       " ('shore', 0.7808051705360413),\n",
       " ('meadow', 0.7702177166938782),\n",
       " ('lagoon', 0.7609250545501709)]"
      ]
     },
     "execution_count": 13,
     "metadata": {},
     "output_type": "execute_result"
    }
   ],
   "source": [
    "Temple_model.wv.most_similar(\"river\", topn=5)"
   ]
  },
  {
   "cell_type": "code",
   "execution_count": 14,
   "id": "21111cfc",
   "metadata": {},
   "outputs": [
    {
     "data": {
      "text/plain": [
       "[('canyon', 0.765004575252533),\n",
       " ('river', 0.7544195055961609),\n",
       " ('lake', 0.753101646900177),\n",
       " ('shore', 0.7435128688812256),\n",
       " ('valley', 0.7433123588562012)]"
      ]
     },
     "execution_count": 14,
     "metadata": {},
     "output_type": "execute_result"
    }
   ],
   "source": [
    "Temple_model.wv.most_similar(\"creek\", topn=5)"
   ]
  },
  {
   "cell_type": "code",
   "execution_count": 15,
   "id": "db6f88d1",
   "metadata": {},
   "outputs": [
    {
     "data": {
      "text/plain": [
       "[('poisonous', 0.658000648021698),\n",
       " ('radioactive', 0.6540186405181885),\n",
       " ('poisoning', 0.6292588114738464),\n",
       " ('dna', 0.6286035776138306),\n",
       " ('fission', 0.6280390024185181)]"
      ]
     },
     "execution_count": 15,
     "metadata": {},
     "output_type": "execute_result"
    }
   ],
   "source": [
    "Temple_model.wv.most_similar(\"toxic\", topn=5)"
   ]
  },
  {
   "cell_type": "code",
   "execution_count": 16,
   "id": "00e52f38",
   "metadata": {},
   "outputs": [
    {
     "data": {
      "text/plain": [
       "[('liquid', 0.6904925107955933),\n",
       " ('moisture', 0.6424208879470825),\n",
       " ('sand', 0.6394728422164917),\n",
       " ('waters', 0.6325480341911316),\n",
       " ('fluid', 0.6283563375473022)]"
      ]
     },
     "execution_count": 16,
     "metadata": {},
     "output_type": "execute_result"
    }
   ],
   "source": [
    "Temple_model.wv.most_similar(\"water\", topn=5)"
   ]
  },
  {
   "cell_type": "code",
   "execution_count": 17,
   "id": "3d6f9e1f",
   "metadata": {},
   "outputs": [
    {
     "data": {
      "text/plain": [
       "[('conditioners', 0.6909869313240051),\n",
       " ('stagnant', 0.6671688556671143),\n",
       " ('humid', 0.6599342823028564),\n",
       " ('breathable', 0.6483432054519653),\n",
       " ('greenness', 0.6370236277580261)]"
      ]
     },
     "execution_count": 17,
     "metadata": {},
     "output_type": "execute_result"
    }
   ],
   "source": [
    "Temple_model.wv.most_similar(\"polluted\", topn=5)"
   ]
  },
  {
   "cell_type": "code",
   "execution_count": 18,
   "id": "4c65e986",
   "metadata": {},
   "outputs": [
    {
     "data": {
      "text/plain": [
       "[('prevailing', 0.7024636268615723),\n",
       " ('conditioning', 0.6621903777122498),\n",
       " ('warfare', 0.6612007021903992),\n",
       " ('distribution', 0.6611322164535522),\n",
       " ('global', 0.6533108353614807)]"
      ]
     },
     "execution_count": 18,
     "metadata": {},
     "output_type": "execute_result"
    }
   ],
   "source": [
    "Temple_model.wv.most_similar(\"pollution\", topn=5)"
   ]
  },
  {
   "cell_type": "code",
   "execution_count": 19,
   "id": "2d8653a3",
   "metadata": {},
   "outputs": [
    {
     "data": {
      "text/plain": [
       "[('disaster', 0.8410323262214661),\n",
       " ('crisis', 0.7520735263824463),\n",
       " ('mutation', 0.7386900782585144),\n",
       " ('tragedy', 0.735249936580658),\n",
       " ('destruction', 0.7306077480316162)]"
      ]
     },
     "execution_count": 19,
     "metadata": {},
     "output_type": "execute_result"
    }
   ],
   "source": [
    "Temple_model.wv.most_similar(\"catastrophe\", topn=5)"
   ]
  },
  {
   "cell_type": "code",
   "execution_count": 20,
   "id": "640870df",
   "metadata": {},
   "outputs": [
    {
     "data": {
      "text/plain": [
       "[('jungle', 0.8591517210006714),\n",
       " ('woods', 0.8165491223335266),\n",
       " ('forests', 0.778739869594574),\n",
       " ('desert', 0.7695292830467224),\n",
       " ('mountains', 0.7519630193710327)]"
      ]
     },
     "execution_count": 20,
     "metadata": {},
     "output_type": "execute_result"
    }
   ],
   "source": [
    "Temple_model.wv.most_similar(\"forest\", topn=5)"
   ]
  },
  {
   "cell_type": "code",
   "execution_count": 21,
   "id": "d9db1239",
   "metadata": {},
   "outputs": [
    {
     "data": {
      "text/plain": [
       "0.2637642"
      ]
     },
     "execution_count": 21,
     "metadata": {},
     "output_type": "execute_result"
    }
   ],
   "source": [
    "Temple_model.wv.similarity('water','toxic')"
   ]
  },
  {
   "cell_type": "code",
   "execution_count": 22,
   "id": "45bd2e08",
   "metadata": {},
   "outputs": [
    {
     "data": {
      "text/plain": [
       "0.06200479"
      ]
     },
     "execution_count": 22,
     "metadata": {},
     "output_type": "execute_result"
    }
   ],
   "source": [
    "Temple_model.wv.similarity('creek', 'toxic')"
   ]
  },
  {
   "cell_type": "code",
   "execution_count": 23,
   "id": "963750f1",
   "metadata": {},
   "outputs": [
    {
     "data": {
      "text/plain": [
       "0.17416057"
      ]
     },
     "execution_count": 23,
     "metadata": {},
     "output_type": "execute_result"
    }
   ],
   "source": [
    "Temple_model.wv.similarity('stream', 'toxic')"
   ]
  },
  {
   "cell_type": "code",
   "execution_count": 24,
   "id": "6d918883",
   "metadata": {},
   "outputs": [
    {
     "data": {
      "text/plain": [
       "0.09121783"
      ]
     },
     "execution_count": 24,
     "metadata": {},
     "output_type": "execute_result"
    }
   ],
   "source": [
    "Temple_model.wv.similarity('river', 'toxic')"
   ]
  },
  {
   "cell_type": "code",
   "execution_count": 25,
   "id": "84ad20d2",
   "metadata": {},
   "outputs": [
    {
     "data": {
      "text/plain": [
       "0.17407505"
      ]
     },
     "execution_count": 25,
     "metadata": {},
     "output_type": "execute_result"
    }
   ],
   "source": [
    "Temple_model.wv.similarity('air', 'toxic')"
   ]
  },
  {
   "cell_type": "code",
   "execution_count": 26,
   "id": "380d9109",
   "metadata": {},
   "outputs": [
    {
     "data": {
      "text/plain": [
       "0.3769074"
      ]
     },
     "execution_count": 26,
     "metadata": {},
     "output_type": "execute_result"
    }
   ],
   "source": [
    "Temple_model.wv.similarity('polluted', 'toxic')"
   ]
  },
  {
   "cell_type": "code",
   "execution_count": 27,
   "id": "0be91904",
   "metadata": {},
   "outputs": [
    {
     "data": {
      "text/plain": [
       "0.14722423"
      ]
     },
     "execution_count": 27,
     "metadata": {},
     "output_type": "execute_result"
    }
   ],
   "source": [
    "Temple_model.wv.similarity('forest', 'toxic')"
   ]
  },
  {
   "cell_type": "code",
   "execution_count": 29,
   "id": "bb63eb0d",
   "metadata": {},
   "outputs": [
    {
     "data": {
      "text/plain": [
       "0.5350743"
      ]
     },
     "execution_count": 29,
     "metadata": {},
     "output_type": "execute_result"
    }
   ],
   "source": [
    "Temple_model.wv.similarity('river','sewer')"
   ]
  },
  {
   "cell_type": "code",
   "execution_count": 30,
   "id": "7e3debad",
   "metadata": {},
   "outputs": [
    {
     "data": {
      "text/plain": [
       "0.49321002"
      ]
     },
     "execution_count": 30,
     "metadata": {},
     "output_type": "execute_result"
    }
   ],
   "source": [
    "Temple_model.wv.similarity('pollutants','seawater')"
   ]
  },
  {
   "cell_type": "code",
   "execution_count": 31,
   "id": "fe9344cf",
   "metadata": {},
   "outputs": [
    {
     "data": {
      "text/plain": [
       "0.31917512"
      ]
     },
     "execution_count": 31,
     "metadata": {},
     "output_type": "execute_result"
    }
   ],
   "source": [
    "Temple_model.wv.similarity('stream','poisonous')"
   ]
  },
  {
   "cell_type": "code",
   "execution_count": 32,
   "id": "2ea2661a",
   "metadata": {},
   "outputs": [
    {
     "data": {
      "text/plain": [
       "0.36249715"
      ]
     },
     "execution_count": 32,
     "metadata": {},
     "output_type": "execute_result"
    }
   ],
   "source": [
    "Temple_model.wv.similarity('radioactive','rainwater')"
   ]
  },
  {
   "cell_type": "code",
   "execution_count": 33,
   "id": "fa8bebe1",
   "metadata": {},
   "outputs": [
    {
     "data": {
      "text/plain": [
       "0.124166995"
      ]
     },
     "execution_count": 33,
     "metadata": {},
     "output_type": "execute_result"
    }
   ],
   "source": [
    "Temple_model.wv.similarity('pollution','river')"
   ]
  },
  {
   "cell_type": "code",
   "execution_count": 34,
   "id": "d311bb9a",
   "metadata": {},
   "outputs": [
    {
     "data": {
      "text/plain": [
       "0.51615894"
      ]
     },
     "execution_count": 34,
     "metadata": {},
     "output_type": "execute_result"
    }
   ],
   "source": [
    "Temple_model.wv.similarity('ocean','sewer')"
   ]
  },
  {
   "cell_type": "code",
   "execution_count": 35,
   "id": "e0cc75b1",
   "metadata": {},
   "outputs": [
    {
     "name": "stdout",
     "output_type": "stream",
     "text": [
      "highway: 0.7481\n"
     ]
    }
   ],
   "source": [
    "result = Temple_model.wv.most_similar(positive=['river', 'canal'], negative=['ocean'])\n",
    "print(\"{}: {:.4f}\".format(*result[0]))"
   ]
  },
  {
   "cell_type": "code",
   "execution_count": 36,
   "id": "6eae812f",
   "metadata": {},
   "outputs": [
    {
     "name": "stdout",
     "output_type": "stream",
     "text": [
      "fetid: 0.5390\n"
     ]
    }
   ],
   "source": [
    "result = Temple_model.wv.most_similar(positive=['river', 'sewage'], negative=['ocean'])\n",
    "print(\"{}: {:.4f}\".format(*result[0]))"
   ]
  },
  {
   "cell_type": "code",
   "execution_count": 37,
   "id": "9000009f",
   "metadata": {},
   "outputs": [
    {
     "name": "stdout",
     "output_type": "stream",
     "text": [
      "spice: 0.5336\n"
     ]
    }
   ],
   "source": [
    "result = Temple_model.wv.most_similar(positive=['water', 'toxic'], negative=['air'])\n",
    "print(\"{}: {:.4f}\".format(*result[0]))"
   ]
  },
  {
   "cell_type": "code",
   "execution_count": 38,
   "id": "cb0819db",
   "metadata": {},
   "outputs": [
    {
     "name": "stdout",
     "output_type": "stream",
     "text": [
      "lake: 0.5806\n"
     ]
    }
   ],
   "source": [
    "result = Temple_model.wv.most_similar(positive=['river', 'flood'], negative=['air'])\n",
    "print(\"{}: {:.4f}\".format(*result[0]))"
   ]
  },
  {
   "cell_type": "code",
   "execution_count": 39,
   "id": "00afad65",
   "metadata": {},
   "outputs": [
    {
     "name": "stdout",
     "output_type": "stream",
     "text": [
      "driveway: 0.6685\n"
     ]
    }
   ],
   "source": [
    "result = Temple_model.wv.most_similar(positive=['creek', 'sewer'], negative=['ocean'])\n",
    "print(\"{}: {:.4f}\".format(*result[0]))"
   ]
  },
  {
   "cell_type": "code",
   "execution_count": 40,
   "id": "726bfbb6",
   "metadata": {},
   "outputs": [
    {
     "name": "stdout",
     "output_type": "stream",
     "text": [
      "sluiced: 0.5503\n"
     ]
    }
   ],
   "source": [
    "result = Temple_model.wv.most_similar(positive=['river', 'polluted'], negative=['ocean'])\n",
    "print(\"{}: {:.4f}\".format(*result[0]))"
   ]
  },
  {
   "cell_type": "code",
   "execution_count": 41,
   "id": "90d06dac",
   "metadata": {},
   "outputs": [],
   "source": [
    "from sklearn.manifold import TSNE\n",
    "import numpy as np\n",
    "from matplotlib import pyplot as plt"
   ]
  },
  {
   "cell_type": "code",
   "execution_count": 42,
   "id": "fa2d186f",
   "metadata": {},
   "outputs": [],
   "source": [
    "#PLOT STARTS HERE\n",
    "\n",
    "base_words = ['toxic', 'pollution', 'river', 'water']\n",
    "toxic_similar_T = [i[0] for i in Temple_model.wv.most_similar(positive='toxic', topn=5)]\n",
    "pollution_similar_T = [i[0] for i in Temple_model.wv.most_similar(positive='pollution', topn=5)]\n",
    "river_similar_T = [i[0] for i in Temple_model.wv.most_similar(positive='river', topn=5)]\n",
    "water_similar_T = [i[0] for i in Temple_model.wv.most_similar(positive='water', topn=5)]"
   ]
  },
  {
   "cell_type": "code",
   "execution_count": 43,
   "id": "45094a82",
   "metadata": {},
   "outputs": [
    {
     "name": "stdout",
     "output_type": "stream",
     "text": [
      "['poisonous' 'radioactive' 'poisoning' 'dna' 'fission' 'prevailing'\n",
      " 'conditioning' 'warfare' 'distribution' 'global' 'lake' 'valley' 'shore'\n",
      " 'meadow' 'lagoon' 'liquid' 'moisture' 'sand' 'waters' 'fluid' 'toxic'\n",
      " 'pollution' 'river' 'water']\n"
     ]
    }
   ],
   "source": [
    "#combine lists\n",
    "all_words_T = np.hstack((toxic_similar_T, pollution_similar_T, river_similar_T, water_similar_T, base_words))\n",
    "print(all_words_T)"
   ]
  },
  {
   "cell_type": "code",
   "execution_count": 45,
   "id": "26d6c3bc",
   "metadata": {},
   "outputs": [
    {
     "data": {
      "image/png": "[encoded data removed]",
      "text/plain": [
       "<Figure size 640x480 with 1 Axes>"
      ]
     },
     "metadata": {},
     "output_type": "display_data"
    }
   ],
   "source": [
    "#plot with color coding\n",
    "\n",
    "labels = [i for i in all_words_T]\n",
    "tokens = Temple_model.wv[labels]\n",
    "\n",
    "tsne_model = TSNE(init='pca', learning_rate='auto', perplexity=15)\n",
    "new_values = tsne_model.fit_transform(tokens)\n",
    "\n",
    "x= []\n",
    "y= []\n",
    "for value in new_values:\n",
    "    x.append(value[0])\n",
    "    y.append(value[1])\n",
    "    \n",
    "for word in all_words_T:\n",
    "    i=labels.index(word)\n",
    "    plt.annotate(labels[i],\n",
    "                xy=(x[i], y[i]),\n",
    "                xytext=(5, 2),\n",
    "                textcoords='offset points',\n",
    "                ha='right',\n",
    "                va='bottom')\n",
    "    if word in toxic_similar_T:\n",
    "        plt.scatter(x[i], y[i], color='gold')\n",
    "    elif word == 'toxic':\n",
    "         plt.scatter(x[i], y[i], color='goldenrod')\n",
    "    elif word in pollution_similar_T:\n",
    "         plt.scatter(x[i], y[i], color='indianred')\n",
    "    elif word == 'pollution':\n",
    "         plt.scatter(x[i], y[i], color='brown')\n",
    "    elif word in river_similar_T:\n",
    "         plt.scatter(x[i], y[i], color='silver')\n",
    "    elif word == 'river':\n",
    "         plt.scatter(x[i], y[i], color='grey')\n",
    "    elif word in water_similar_T:\n",
    "         plt.scatter(x[i], y[i], color='lightblue')\n",
    "    elif word == 'water':\n",
    "        plt.scatter(x[i], y[i], color='royalblue')\n",
    "    plt.title(\"Word2Vec Embeddings from \\n Temple U's 322-Volume Cli-FI Corpus\", fontweight='bold' )"
   ]
  },
  {
   "cell_type": "code",
   "execution_count": null,
   "id": "c016b69b",
   "metadata": {},
   "outputs": [],
   "source": []
  }
 ],
 "metadata": {
  "kernelspec": {
   "display_name": "Python 3 (ipykernel)",
   "language": "python",
   "name": "python3"
  },
  "language_info": {
   "codemirror_mode": {
    "name": "ipython",
    "version": 3
   },
   "file_extension": ".py",
   "mimetype": "text/x-python",
   "name": "python",
   "nbconvert_exporter": "python",
   "pygments_lexer": "ipython3",
   "version": "3.10.9"
  }
 },
 "nbformat": 4,
 "nbformat_minor": 5
}
